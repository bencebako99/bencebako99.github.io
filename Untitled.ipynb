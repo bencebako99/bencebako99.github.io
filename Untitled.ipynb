{
 "cells": [
  {
   "cell_type": "code",
   "execution_count": 30,
   "metadata": {
    "slideshow": {
     "slide_type": "skip"
    }
   },
   "outputs": [
    {
     "data": {
      "text/html": [
       "<script>\n",
       "code_show=true; \n",
       "function code_toggle() {\n",
       " if (code_show){\n",
       " $('div.input').hide();\n",
       " $('div.output_stderr').hide();\n",
       " } else {\n",
       " $('div.input').show();\n",
       " $('div.output_stderr').show();\n",
       " }\n",
       " code_show = !code_show\n",
       "} \n",
       "$( document ).ready(code_toggle);\n",
       "</script>\n",
       "<form action='javascript:code_toggle()'><input STYLE='color: #4286f4' \n",
       "type='submit' value='Click here to toggle on/off the raw code.'></form>"
      ],
      "text/plain": [
       "<IPython.core.display.HTML object>"
      ]
     },
     "execution_count": 30,
     "metadata": {},
     "output_type": "execute_result"
    }
   ],
   "source": [
    "from IPython.display import HTML\n",
    "\n",
    "HTML('''<script>\n",
    "code_show=true; \n",
    "function code_toggle() {\n",
    " if (code_show){\n",
    " $('div.input').hide();\n",
    " $('div.output_stderr').hide();\n",
    " } else {\n",
    " $('div.input').show();\n",
    " $('div.output_stderr').show();\n",
    " }\n",
    " code_show = !code_show\n",
    "} \n",
    "$( document ).ready(code_toggle);\n",
    "</script>\n",
    "<form action='javascript:code_toggle()'><input STYLE='color: #4286f4' \n",
    "type='submit' value='Click here to toggle on/off the raw code.'></form>''')"
   ]
  },
  {
   "cell_type": "markdown",
   "metadata": {
    "slideshow": {
     "slide_type": "slide"
    }
   },
   "source": [
    "# 4. Termoelektromos hűtőelemek vizsgálata"
   ]
  },
  {
   "cell_type": "markdown",
   "metadata": {
    "slideshow": {
     "slide_type": "slide"
    }
   },
   "source": [
    "## Tartalomjegyzék"
   ]
  },
  {
   "cell_type": "markdown",
   "metadata": {
    "slideshow": {
     "slide_type": "fragment"
    }
   },
   "source": [
    "- A mérés célja\n",
    "- Mérőeszközök\n",
    "- A mérés lépései\n",
    "- Kiértékelés\n",
    "- Diszkusszió"
   ]
  },
  {
   "cell_type": "markdown",
   "metadata": {
    "slideshow": {
     "slide_type": "slide"
    }
   },
   "source": [
    "## A mérés célja"
   ]
  },
  {
   "cell_type": "markdown",
   "metadata": {
    "slideshow": {
     "slide_type": "fragment"
    }
   },
   "source": [
    "- A termoelektromos jelenségek vizsgálata, ezen belül is a hővezetés, a Joule-hő, valamint a Thomson-, Peltier- és Seebeck- effektus."
   ]
  },
  {
   "cell_type": "markdown",
   "metadata": {
    "slideshow": {
     "slide_type": "slide"
    }
   },
   "source": [
    "## Mérőeszközök"
   ]
  },
  {
   "cell_type": "markdown",
   "metadata": {
    "slideshow": {
     "slide_type": "fragment"
    }
   },
   "source": [
    "- Tranzisztoros hőmérő\n",
    "- Tápegység\n",
    "- Peltier-elem\n",
    "- Hőmérő\n",
    "- Feszültségmérő\n",
    "- Hőtartály"
   ]
  },
  {
   "cell_type": "markdown",
   "metadata": {
    "slideshow": {
     "slide_type": "slide"
    }
   },
   "source": [
    "## A mérés lépései"
   ]
  },
  {
   "cell_type": "markdown",
   "metadata": {
    "slideshow": {
     "slide_type": "fragment"
    }
   },
   "source": [
    "- Előkészítés\n",
    "- Karakterisztikus idő mérése\n",
    "- Egyensúlyi hőmérséklet mérése az áramerősség függvényében\n",
    "- Seebeck együttható mérése"
   ]
  },
  {
   "cell_type": "markdown",
   "metadata": {
    "slideshow": {
     "slide_type": "slide"
    }
   },
   "source": [
    "## Kiértékelés"
   ]
  },
  {
   "cell_type": "code",
   "execution_count": 2,
   "metadata": {
    "slideshow": {
     "slide_type": "skip"
    }
   },
   "outputs": [],
   "source": [
    "import numpy as np\n",
    "import matplotlib.pyplot as plt\n",
    "import pandas as pd\n",
    "from scipy.optimize import curve_fit\n",
    "data1 = pd.read_csv('https://raw.githubusercontent.com/bencebako99/labor/master/TimeTemp.txt', skiprows=1, names=['t', 'T'])\n",
    "data1 = pd.DataFrame.to_numpy(data1)\n",
    "kutya = np.empty(len(data1))\n",
    "kutya.fill(273)\n",
    "data1[:, 1] = data1[:, 1]+kutya"
   ]
  },
  {
   "cell_type": "code",
   "execution_count": 3,
   "metadata": {
    "slideshow": {
     "slide_type": "skip"
    }
   },
   "outputs": [],
   "source": [
    "def fun(t, A, theta, Tveg):\n",
    "    return A*np.e**(-t/theta)+Tveg"
   ]
  },
  {
   "cell_type": "code",
   "execution_count": 4,
   "metadata": {
    "slideshow": {
     "slide_type": "skip"
    }
   },
   "outputs": [
    {
     "name": "stdout",
     "output_type": "stream",
     "text": [
      "[ 25.00640147  72.99464199 269.01253397]\n",
      "[0.05948368 0.43524847 0.03872785]\n"
     ]
    }
   ],
   "source": [
    "popt,pcov=curve_fit(fun, data1[:,0], data1[:,1])\n",
    "perr = np.sqrt(np.diag(pcov)) \n",
    "print (popt)\n",
    "print (perr)"
   ]
  },
  {
   "cell_type": "markdown",
   "metadata": {
    "slideshow": {
     "slide_type": "slide"
    }
   },
   "source": [
    "### Karakterisztikus idő mérése"
   ]
  },
  {
   "cell_type": "markdown",
   "metadata": {
    "slideshow": {
     "slide_type": "fragment"
    }
   },
   "source": [
    "Az illesztendő függvény egyenlete: $T(t) = A^{-t/\\tau}+T_{\\infty}$"
   ]
  },
  {
   "cell_type": "code",
   "execution_count": 8,
   "metadata": {
    "slideshow": {
     "slide_type": "subslide"
    }
   },
   "outputs": [
    {
     "data": {
      "text/plain": [
       "Text(0, 0.5, 'T[K]')"
      ]
     },
     "execution_count": 8,
     "metadata": {},
     "output_type": "execute_result"
    },
    {
     "data": {
      "image/png": "[encoded data removed]",
      "text/plain": [
       "<Figure size 432x288 with 1 Axes>"
      ]
     },
     "metadata": {
      "needs_background": "light"
     },
     "output_type": "display_data"
    }
   ],
   "source": [
    "plt.plot(data1[:,0], fun(data1[:,0], popt[0], popt[1], popt[2]))\n",
    "plt.plot(data1[:,0], data1[:, 1], linestyle='', marker='.')\n",
    "plt.xlabel('t [s]')\n",
    "plt.ylabel('T[K]')"
   ]
  },
  {
   "cell_type": "markdown",
   "metadata": {
    "slideshow": {
     "slide_type": "subslide"
    }
   },
   "source": [
    "Az illesztés paraméterei: \n",
    "$$A = (25,01 \\pm 0,05)^{\\circ}C$$\n",
    "$$\\tau = (73 \\pm 0,4) s$$\n",
    "$$T_{\\infty} = (269,01\\pm0,04)^{\\circ}C $$"
   ]
  },
  {
   "cell_type": "markdown",
   "metadata": {
    "slideshow": {
     "slide_type": "slide"
    }
   },
   "source": [
    "Ez nem elég jó, így a függvényt inkább logaritmikusan keressük:"
   ]
  },
  {
   "cell_type": "code",
   "execution_count": 9,
   "metadata": {
    "slideshow": {
     "slide_type": "skip"
    }
   },
   "outputs": [],
   "source": [
    "kutya = np.empty(len(data1))\n",
    "kutya.fill(popt[2])\n",
    "data1[:, 1] = data1[:, 1]-kutya\n",
    "def fun1(t, tau, A):\n",
    "    return tau*t+A"
   ]
  },
  {
   "cell_type": "code",
   "execution_count": 10,
   "metadata": {
    "slideshow": {
     "slide_type": "skip"
    }
   },
   "outputs": [],
   "source": [
    "popt,pcov=curve_fit(fun1, data1[:38,0], np.log(data1[:38,1]))\n",
    "perr = np.sqrt(np.diag(pcov)) "
   ]
  },
  {
   "cell_type": "code",
   "execution_count": 12,
   "metadata": {
    "slideshow": {
     "slide_type": "subslide"
    }
   },
   "outputs": [
    {
     "data": {
      "text/plain": [
       "Text(0, 0.5, '$ln(T-T_v)$')"
      ]
     },
     "execution_count": 12,
     "metadata": {},
     "output_type": "execute_result"
    },
    {
     "data": {
      "image/png": "[encoded data removed]",
      "text/plain": [
       "<Figure size 432x288 with 1 Axes>"
      ]
     },
     "metadata": {
      "needs_background": "light"
     },
     "output_type": "display_data"
    }
   ],
   "source": [
    "plt.plot(data1[:38,0], fun1(data1[:38,0], popt[0], popt[1]))\n",
    "plt.plot(data1[:38,0], np.log(data1[:38, 1]), linestyle='', marker='.')\n",
    "plt.xlabel('t [s]')\n",
    "plt.ylabel('$ln(T-T_v)$')"
   ]
  },
  {
   "cell_type": "markdown",
   "metadata": {
    "slideshow": {
     "slide_type": "subslide"
    }
   },
   "source": [
    "Innen a karakterisztikus idő:\n",
    "$$\\tau = (73,87 \\pm 0,23) s$$"
   ]
  },
  {
   "cell_type": "code",
   "execution_count": 14,
   "metadata": {
    "slideshow": {
     "slide_type": "skip"
    }
   },
   "outputs": [],
   "source": [
    "data2 = pd.read_csv('https://raw.githubusercontent.com/bencebako99/labor/master/CurrTemp.txt', skiprows=1, names=['I', 'T'])\n",
    "data2 = pd.DataFrame.to_numpy(data2)\n",
    "kutya = np.empty(len(data2))\n",
    "kutya.fill(273)\n",
    "data2[:, 1] = data2[:, 1]+kutya\n",
    "def fun2(I, a, b, c):\n",
    "    return a*I**2+b*I+c\n",
    "popt,pcov=curve_fit(fun2, data2[:,0], data2[:,1], method='lm')\n",
    "perr = np.sqrt(np.diag(pcov)) \n",
    "I1=np.linspace(1, 6, 1000)"
   ]
  },
  {
   "cell_type": "markdown",
   "metadata": {
    "slideshow": {
     "slide_type": "slide"
    }
   },
   "source": [
    "### Maximális hőmérsékletkülönbség meghatározása"
   ]
  },
  {
   "cell_type": "markdown",
   "metadata": {
    "slideshow": {
     "slide_type": "subslide"
    }
   },
   "source": [
    "Az illesztendő görbe egyenlete és paraméterei:\n",
    "$$T = a+b\\cdot I+c\\cdot I^2$$"
   ]
  },
  {
   "cell_type": "code",
   "execution_count": 16,
   "metadata": {
    "slideshow": {
     "slide_type": "subslide"
    }
   },
   "outputs": [
    {
     "data": {
      "text/plain": [
       "Text(0, 0.5, 'T [K]')"
      ]
     },
     "execution_count": 16,
     "metadata": {},
     "output_type": "execute_result"
    },
    {
     "data": {
      "image/png": "[encoded data removed]",
      "text/plain": [
       "<Figure size 432x288 with 1 Axes>"
      ]
     },
     "metadata": {
      "needs_background": "light"
     },
     "output_type": "display_data"
    }
   ],
   "source": [
    "plt.plot(I1, fun2(I1, popt[0], popt[1], popt[2]))\n",
    "plt.plot(data2[:,0], data2[:, 1], linestyle='', marker='.')\n",
    "plt.xlabel('I [A]')\n",
    "plt.ylabel('T [K]')"
   ]
  },
  {
   "cell_type": "markdown",
   "metadata": {
    "slideshow": {
     "slide_type": "subslide"
    }
   },
   "source": [
    "Az illesztett paraméterek:\n",
    "$$a = (290,2\\pm 0,5) K$$\n",
    "        $$b = (-13,2\\pm 0,33) K/A$$\n",
    "        $$c = (1,42\\pm 0,046) K/A^2$$"
   ]
  },
  {
   "cell_type": "markdown",
   "metadata": {
    "slideshow": {
     "slide_type": "fragment"
    }
   },
   "source": [
    "Innen a hőmérséklet minimuma:\n",
    "    $$b + 2\\cdot c\\cdot I = 0 \\; \\Rightarrow \\; I_{min} = 4,65 A \\; \\Rightarrow \\; T_{min}=259,5 K$$"
   ]
  },
  {
   "cell_type": "markdown",
   "metadata": {
    "slideshow": {
     "slide_type": "slide"
    }
   },
   "source": [
    "### Seebeck együttható mérése"
   ]
  },
  {
   "cell_type": "markdown",
   "metadata": {
    "slideshow": {
     "slide_type": "fragment"
    }
   },
   "source": [
    "A megfelelő adatokra egyenest illesztünk."
   ]
  },
  {
   "cell_type": "code",
   "execution_count": 23,
   "metadata": {
    "slideshow": {
     "slide_type": "skip"
    }
   },
   "outputs": [],
   "source": [
    "data3 = pd.read_csv('https://raw.githubusercontent.com/bencebako99/labor/master/Seebeck.txt', skiprows=1, names=['I', 'T','h'])\n",
    "data3 = pd.DataFrame.to_numpy(data3)\n",
    "kutya = np.empty(len(data3))\n",
    "kutya.fill(273)\n",
    "data3[:, 1] = data3[:, 1]+kutya\n",
    "def fun3(T, m, a):\n",
    "    return m*T+a\n",
    "popt,pcov=curve_fit(fun3, data3[:,1], data3[:,2])\n",
    "perr = np.sqrt(np.diag(pcov)) "
   ]
  },
  {
   "cell_type": "code",
   "execution_count": 24,
   "metadata": {
    "slideshow": {
     "slide_type": "subslide"
    }
   },
   "outputs": [
    {
     "data": {
      "text/plain": [
       "Text(0, 0.5, 'U [mV]')"
      ]
     },
     "execution_count": 24,
     "metadata": {},
     "output_type": "execute_result"
    },
    {
     "data": {
      "image/png": "[encoded data removed]",
      "text/plain": [
       "<Figure size 432x288 with 1 Axes>"
      ]
     },
     "metadata": {
      "needs_background": "light"
     },
     "output_type": "display_data"
    }
   ],
   "source": [
    "plt.plot(data3[:,1], fun3(data3[:,1], popt[0], popt[1]))\n",
    "plt.plot(data3[:,1], data3[:, 2], linestyle='', marker='x')\n",
    "plt.xlabel('T [K]')\n",
    "plt.ylabel('U [mV]')"
   ]
  },
  {
   "cell_type": "markdown",
   "metadata": {
    "slideshow": {
     "slide_type": "subslide"
    }
   },
   "source": [
    "Innen a Seebeck-együttható:\n",
    "    $$S_{ab} = (11,12\\pm 0,02) \\frac{mV}{K}$$"
   ]
  },
  {
   "cell_type": "markdown",
   "metadata": {
    "slideshow": {
     "slide_type": "slide"
    }
   },
   "source": [
    "Az eddigiek alapján a további együtthatók:\n"
   ]
  },
  {
   "cell_type": "markdown",
   "metadata": {
    "slideshow": {
     "slide_type": "subslide"
    }
   },
   "source": [
    "Peltier együttható 1: $$P_{ab}(T_0) = S_{ab}T_0 = 3,26 \\;V$$\n",
    "Peltier együttható 2: $$P_{ab}(T_{min}) = S_{ab}T_{min} = 2,88 \\;V$$\n",
    "A hűtőelem ellenállása: $$R_{ab} = \\frac{T{min}S_{ab}}{I_{min}} = 0,62\\; \\Omega$$"
   ]
  },
  {
   "cell_type": "markdown",
   "metadata": {
    "slideshow": {
     "slide_type": "subslide"
    }
   },
   "source": [
    "Peltier elem jósága: $$z = \\frac{T(0)-T_{min}}{T_{min}^2} = 5,09 \\cdot 10^{-4}\\frac{1}{K}$$\n",
    "A hővezetési együttható: $$h_{ab}= \\frac{S_{ab}^2}{zR_{ab}} = 0,39 \\frac{W}{K}$$"
   ]
  },
  {
   "cell_type": "markdown",
   "metadata": {
    "slideshow": {
     "slide_type": "slide"
    }
   },
   "source": [
    "### A parabolás közelítés helyességének vizsgálata"
   ]
  },
  {
   "cell_type": "code",
   "execution_count": 18,
   "metadata": {
    "slideshow": {
     "slide_type": "skip"
    }
   },
   "outputs": [],
   "source": [
    "data2 = pd.read_csv('https://raw.githubusercontent.com/bencebako99/labor/master/CurrTemp.txt', skiprows=1, names=['I', 'T'])\n",
    "data2 = pd.DataFrame.to_numpy(data2)\n",
    "kutya = np.empty(len(data2))\n",
    "kutya.fill(273)\n",
    "data2[:, 1] = data2[:, 1]+kutya\n",
    "T0 = 293.4*np.ones(8)\n",
    "data22=np.empty((8,2))\n",
    "data22[:,1] = np.divide(data2[:,1],data2[:,0])\n",
    "data22[:,0] = np.divide(np.divide((T0-data2[:,1]),data2[:,0]), data2[:,0])\n",
    "def fun(x, m, b):\n",
    "    return x*m+b\n",
    "popt,pcov=curve_fit(fun, data22[:,0], data22[:,1])\n",
    "perr = np.sqrt(np.diag(pcov)) "
   ]
  },
  {
   "cell_type": "markdown",
   "metadata": {
    "slideshow": {
     "slide_type": "fragment"
    }
   },
   "source": [
    "A következő egyenes illesztést végezzük:"
   ]
  },
  {
   "cell_type": "code",
   "execution_count": 20,
   "metadata": {
    "scrolled": true,
    "slideshow": {
     "slide_type": "subslide"
    }
   },
   "outputs": [
    {
     "data": {
      "text/plain": [
       "Text(0, 0.5, '$(T_0-T(I))/I^2 \\\\;[K/A^2]$')"
      ]
     },
     "execution_count": 20,
     "metadata": {},
     "output_type": "execute_result"
    },
    {
     "data": {
      "image/png": "[encoded data removed]",
      "text/plain": [
       "<Figure size 432x288 with 1 Axes>"
      ]
     },
     "metadata": {
      "needs_background": "light"
     },
     "output_type": "display_data"
    }
   ],
   "source": [
    "plt.plot(data22[:,0], fun(data22[:,0], popt[0], popt[1]))\n",
    "plt.plot(data22[:,0], data22[:, 1], linestyle='', marker='o')\n",
    "plt.xlabel('T(I)/I [K/A]')\n",
    "plt.ylabel('$(T_0-T(I))/I^2 \\;[K/A^2]$')"
   ]
  },
  {
   "cell_type": "markdown",
   "metadata": {
    "slideshow": {
     "slide_type": "subslide"
    }
   },
   "source": [
    "Az egyenes meredeksége és eltolása:\n",
    "        $$m = \\frac{h_{ab}}{S_{ab}} = (16,99 \\pm 0,07) A$$\n",
    "        $$b = \\frac{R_{ab}}{2S_{ab}} = (29,58 \\pm 0,46) \\frac{A}{K}$$"
   ]
  },
  {
   "cell_type": "markdown",
   "metadata": {
    "slideshow": {
     "slide_type": "subslide"
    }
   },
   "source": [
    "Ebből megkaphatjuk:\n",
    "        $$h_{ab} = 0,189 \\frac{W}{K}$$\n",
    "        $$R_{ab} = 0,66 \\Omega$$\n",
    "        "
   ]
  },
  {
   "cell_type": "markdown",
   "metadata": {
    "slideshow": {
     "slide_type": "fragment"
    }
   },
   "source": [
    "Ezek már jobb eredmények, mint korábban."
   ]
  },
  {
   "cell_type": "markdown",
   "metadata": {
    "slideshow": {
     "slide_type": "slide"
    }
   },
   "source": [
    "## Diszkusszió"
   ]
  },
  {
   "cell_type": "markdown",
   "metadata": {
    "slideshow": {
     "slide_type": "fragment"
    }
   },
   "source": [
    "A kapott eredmények viszonylag jók, a maximális hőmérsékletkülönbség meghatározásánál adódnak nagyobb hibák, a görbeillesztésből fakadóan."
   ]
  },
  {
   "cell_type": "markdown",
   "metadata": {
    "slideshow": {
     "slide_type": "subslide"
    }
   },
   "source": [
    "|          Fizikai mennyiség         |     Meghatározott érték hibával együtt     |\n",
    "|:----------------------------------:|:------------------------------------------:|\n",
    "|       A karakterisztikus idő       |              $(73 \\pm 0,4) s$              |\n",
    "|              $I_{min}$             |             $(4,65 \\pm 0,27) A$            |\n",
    "|              $T_{min}$             |            $(259,5 \\pm 9,58) K$            |\n",
    "|        A Seebeck együttható        |      $(11,125 \\pm 0,02) \\frac{mV}{K}$      |\n",
    "|   A Peltier együttható $T_0-ban$   |            $(3,26 \\pm 0,006) V$            |\n",
    "| A Peltier együttható $T_{min}-ben$ |             $(2,88 \\pm 0,11) V$            |\n",
    "|       A hűtőelem ellenállása       |          $(0,66 \\pm 0,01) \\Omega$          |\n",
    "|        A Peltier elem jósága       | $(5,09 \\pm 1,42) \\cdot 10^{-4}\\frac{1}{K}$ |\n",
    "|       A hővezetési együttható      |       $(0,189 \\pm 0,001) \\frac{W}{K}$      |"
   ]
  },
  {
   "cell_type": "markdown",
   "metadata": {
    "slideshow": {
     "slide_type": "slide"
    }
   },
   "source": [
    "### Köszönöm a figyelmet!"
   ]
  }
 ],
 "metadata": {
  "celltoolbar": "Slideshow",
  "kernelspec": {
   "display_name": "Python 3.7.6 64-bit ('base': conda)",
   "language": "python",
   "name": "python37664bitbaseconda1d888236f8c6463cace455aa2cc77e03"
  },
  "language_info": {
   "codemirror_mode": {
    "name": "ipython",
    "version": 3
   },
   "file_extension": ".py",
   "mimetype": "text/x-python",
   "name": "python",
   "nbconvert_exporter": "python",
   "pygments_lexer": "ipython3",
   "version": "3.7.6"
  }
 },
 "nbformat": 4,
 "nbformat_minor": 4
}
